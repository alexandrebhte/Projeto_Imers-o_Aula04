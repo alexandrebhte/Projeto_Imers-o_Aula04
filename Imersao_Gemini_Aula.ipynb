{
  "nbformat": 4,
  "nbformat_minor": 0,
  "metadata": {
    "colab": {
      "provenance": [],
      "authorship_tag": "ABX9TyN0bA2xBuuhOg8TWiOR8l1C",
      "include_colab_link": true
    },
    "kernelspec": {
      "name": "python3",
      "display_name": "Python 3"
    },
    "language_info": {
      "name": "python"
    }
  },
  "cells": [
    {
      "cell_type": "markdown",
      "metadata": {
        "id": "view-in-github",
        "colab_type": "text"
      },
      "source": [
        "<a href=\"https://colab.research.google.com/github/alexandrebhte/Projeto_Imers-o_Aula04/blob/main/Imersao_Gemini_Aula.ipynb\" target=\"_parent\"><img src=\"https://colab.research.google.com/assets/colab-badge.svg\" alt=\"Open In Colab\"/></a>"
      ]
    },
    {
      "cell_type": "code",
      "execution_count": 1,
      "metadata": {
        "id": "IXjZZsq0uq0q"
      },
      "outputs": [],
      "source": [
        "!pip install -q -U google-generativeai"
      ]
    },
    {
      "cell_type": "code",
      "source": [
        " # Import the Python SDK\n",
        "import google.generativeai as genai\n",
        "\n",
        "from google.colab import userdata\n",
        "api_key = userdata.get('SECRET_KEY')\n",
        "genai.configure(api_key=api_key)\n"
      ],
      "metadata": {
        "id": "SYCDxCTWvfR0"
      },
      "execution_count": 16,
      "outputs": []
    },
    {
      "cell_type": "code",
      "source": [],
      "metadata": {
        "id": "N_kBdoKjvYgn"
      },
      "execution_count": null,
      "outputs": []
    },
    {
      "cell_type": "markdown",
      "source": [
        "Lista os modelos disponíveis\n"
      ],
      "metadata": {
        "id": "9H8povMjv90G"
      }
    },
    {
      "cell_type": "code",
      "source": [
        "for m in genai.list_models():\n",
        "  if 'generateContent' in m.supported_generation_methods:\n",
        "    print(m.name)"
      ],
      "metadata": {
        "colab": {
          "base_uri": "https://localhost:8080/",
          "height": 139
        },
        "id": "wzxHyrSlwDof",
        "outputId": "9ba9ea90-4f9c-4e8f-d606-616b5b84e2fb"
      },
      "execution_count": 4,
      "outputs": [
        {
          "output_type": "stream",
          "name": "stdout",
          "text": [
            "models/gemini-1.0-pro\n",
            "models/gemini-1.0-pro-001\n",
            "models/gemini-1.0-pro-latest\n",
            "models/gemini-1.0-pro-vision-latest\n",
            "models/gemini-1.5-pro-latest\n",
            "models/gemini-pro\n",
            "models/gemini-pro-vision\n"
          ]
        }
      ]
    },
    {
      "cell_type": "code",
      "source": [
        "generation_config ={\n",
        "    \"candidate_count\": 1,\n",
        "    \"temperature\": 0.5\n",
        "}"
      ],
      "metadata": {
        "id": "Q8CoKW6IxYWm"
      },
      "execution_count": 5,
      "outputs": []
    },
    {
      "cell_type": "code",
      "source": [
        "safety_settings = {\n",
        "    \"HARASSMENT\": \"BLOCK_NONE\",\n",
        "    \"HATE\": \"BLOCK_NONE\",\n",
        "    \"SEXUAL\": \"BLOCK_NONE\",\n",
        "    \"DANGEROUS\": \"BLOCK_NONE\",\n",
        "}"
      ],
      "metadata": {
        "id": "3m1OCKyVx3hN"
      },
      "execution_count": 7,
      "outputs": []
    },
    {
      "cell_type": "markdown",
      "source": [
        "Inicializando o modelo"
      ],
      "metadata": {
        "id": "ghKvnootytMG"
      }
    },
    {
      "cell_type": "code",
      "source": [
        "model = genai.GenerativeModel(model_name=\"gemini-1.0-pro\",\n",
        "                              generation_config=generation_config,\n",
        "                              safety_settings=safety_settings)"
      ],
      "metadata": {
        "id": "Z5edwP6bywQ-"
      },
      "execution_count": 8,
      "outputs": []
    },
    {
      "cell_type": "code",
      "source": [
        "response = model.generate_content(\"Vamos aprender conteudos sobre IA me dê susgestões.\")\n",
        "print(response.text)"
      ],
      "metadata": {
        "colab": {
          "base_uri": "https://localhost:8080/",
          "height": 816
        },
        "id": "kVeF0REazoxN",
        "outputId": "28a713db-dd71-4da5-ce08-8bdd5b9e86c5"
      },
      "execution_count": 9,
      "outputs": [
        {
          "output_type": "stream",
          "name": "stdout",
          "text": [
            "**Cursos Online:**\n",
            "\n",
            "* **Coursera:**\n",
            "    * Aprendizado de Máquina (Universidade de Stanford)\n",
            "    * Inteligência Artificial (Universidade de Helsinque)\n",
            "    * Introdução à Inteligência Artificial (Universidade de Columbia)\n",
            "* **edX:**\n",
            "    * Inteligência Artificial (MIT)\n",
            "    * Aprendizado de Máquina (Universidade de Washington)\n",
            "    * Introdução à Inteligência Artificial (Universidade de Toronto)\n",
            "* **Udemy:**\n",
            "    * Inteligência Artificial para Iniciantes\n",
            "    * Aprendizado de Máquina com Python\n",
            "    * Redes Neurais e Aprendizado Profundo\n",
            "\n",
            "**Livros:**\n",
            "\n",
            "* **Inteligência Artificial: Uma Abordagem Moderna** (Stuart Russell e Peter Norvig)\n",
            "* **Aprendizado de Máquina** (Tom Mitchell)\n",
            "* **Redes Neurais e Aprendizado Profundo** (Michael Nielsen)\n",
            "* **Inteligência Artificial: Fundamentos e Aplicações** (Danilo Mandic)\n",
            "* **Introdução à Inteligência Artificial** (Patrick Henry Winston)\n",
            "\n",
            "**Artigos e Pesquisas:**\n",
            "\n",
            "* **Nature Machine Intelligence:** https://www.nature.com/nmachintell/\n",
            "* **Journal of Artificial Intelligence Research:** https://www.jair.org/\n",
            "* **arXiv: Inteligência Artificial:** https://arxiv.org/list/cs.AI/recent\n",
            "* **Google AI Blog:** https://blog.google/technology/ai/\n",
            "* **OpenAI Blog:** https://openai.com/blog/\n",
            "\n",
            "**Comunidades e Fóruns:**\n",
            "\n",
            "* **Reddit: r/artificialintelligence**\n",
            "* **Stack Overflow: Inteligência Artificial**\n",
            "* **Kaggle:** https://www.kaggle.com/\n",
            "* **GitHub: Inteligência Artificial**\n",
            "* **Meetup: Grupos de Inteligência Artificial**\n",
            "\n",
            "**Outras Sugestões:**\n",
            "\n",
            "* **Participe de workshops e conferências sobre IA.**\n",
            "* **Faça projetos práticos de IA.**\n",
            "* **Leia artigos de pesquisa e acompanhe as tendências atuais.**\n",
            "* **Conecte-se com especialistas em IA em redes sociais.**\n",
            "* **Participe de cursos de certificação em IA.**\n"
          ]
        }
      ]
    },
    {
      "cell_type": "code",
      "source": [
        "chat = model.start_chat(history=[])"
      ],
      "metadata": {
        "id": "GFAXF_-lz91A"
      },
      "execution_count": 10,
      "outputs": []
    },
    {
      "cell_type": "code",
      "source": [
        "prompt = input(\"Esperando prompt (digite fim para sair)\")\n",
        "\n",
        "while prompt != \"fim\":\n",
        "  response = chat.send_message(prompt)\n",
        "  print(\"Resposta: \", response.text, \"\\n\")\n",
        "  prompt = input(\"Esperando prompt....\")"
      ],
      "metadata": {
        "colab": {
          "base_uri": "https://localhost:8080/",
          "height": 139
        },
        "id": "Ntr8MEmW0SEu",
        "outputId": "58323eb5-0221-4412-e858-8bc9d3a84cca"
      },
      "execution_count": 17,
      "outputs": [
        {
          "name": "stdout",
          "output_type": "stream",
          "text": [
            "Esperando prompt (digite fim para sair)qual a cidade menos populosa?\n",
            "Resposta:  Minami-Tori-shima \n",
            "\n",
            "Esperando prompt....e qual a quantidade de habitantes?\n",
            "Resposta:  110 (2022) \n",
            "\n",
            "Esperando prompt....fim\n"
          ]
        }
      ]
    },
    {
      "cell_type": "code",
      "source": [
        "chat.history\n"
      ],
      "metadata": {
        "colab": {
          "base_uri": "https://localhost:8080/"
        },
        "id": "TY1q014H1xzO",
        "outputId": "773432e8-73e6-470a-d64a-9f90a7ddad73"
      },
      "execution_count": 15,
      "outputs": [
        {
          "output_type": "execute_result",
          "data": {
            "text/plain": [
              "[parts {\n",
              "   text: \"qual \\303\\251 a capital do jap\\303\\243o?\"\n",
              " }\n",
              " role: \"user\",\n",
              " parts {\n",
              "   text: \"T\\303\\263quio\"\n",
              " }\n",
              " role: \"model\",\n",
              " parts {\n",
              "   text: \"Qual a comida t\\303\\255pica deste pais?\"\n",
              " }\n",
              " role: \"user\",\n",
              " parts {\n",
              "   text: \"Sushi\"\n",
              " }\n",
              " role: \"model\",\n",
              " parts {\n",
              "   text: \"e qual a popula\\303\\247\\303\\243o desta cidade?\"\n",
              " }\n",
              " role: \"user\",\n",
              " parts {\n",
              "   text: \"13.960.236 (2022)\"\n",
              " }\n",
              " role: \"model\"]"
            ]
          },
          "metadata": {},
          "execution_count": 15
        }
      ]
    }
  ]
}